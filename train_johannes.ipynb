{
 "cells": [
  {
   "cell_type": "code",
   "execution_count": 1,
   "metadata": {},
   "outputs": [],
   "source": [
    "from settings import s, e\n",
    "import numpy as np\n",
    "import tensorflow as tf\n",
    "import tensorflow.keras.backend as K\n",
    "import pickle\n",
    "\n",
    "from IPython.display import clear_output, display, update_display\n",
    "import matplotlib.pyplot as plt\n",
    "\n",
    "\n",
    "from simple import Game, get_x\n",
    "\n",
    "from agent_code.tensor_agent.agent import TensorAgent\n",
    "from agent_code.tensor_agent.hyperparameters import hp\n",
    "from agent_code.tensor_agent.X import RelativeX2 as game_state_X\n",
    "\n",
    "clear_output()"
   ]
  },
  {
   "cell_type": "code",
   "execution_count": 2,
   "metadata": {},
   "outputs": [],
   "source": [
    "choices = ['RIGHT', 'LEFT', 'UP', 'DOWN', 'BOMB', 'WAIT']\n",
    "D = len(choices)\n",
    "\n",
    "K.clear_session()\n",
    "agents = {\n",
    "    'tensor_agent': TensorAgent(game_state_X.shape, D, weights=None) # alt: weights='tensor_agent-model.h5'\n",
    "}\n",
    "train = {a: False for a in agents}\n",
    "clear_output()"
   ]
  },
  {
   "cell_type": "code",
   "execution_count": 3,
   "metadata": {},
   "outputs": [
    {
     "data": {
      "text/plain": [
       "'Complete'"
      ]
     },
     "metadata": {},
     "output_type": "display_data"
    },
    {
     "name": "stdout",
     "output_type": "stream",
     "text": [
      "End of episode. Steps: 400\n",
      "End of episode. Steps: 800\n"
     ]
    }
   ],
   "source": [
    "d = display(f'Starting...', display_id='progress')\n",
    "\n",
    "n_steps = 1000\n",
    "game = None\n",
    "\n",
    "train['tensor_agent'] = True\n",
    "\n",
    "for step in range(n_steps):\n",
    "    if game is None:\n",
    "        game = Game(*Game.create_arena(agents.keys()))\n",
    "\n",
    "    actions = {}\n",
    "    Xs = {}\n",
    "    for agent in game.agents:\n",
    "        _, _, name, _, _ = agent\n",
    "        \n",
    "        game_state = game.get_game_state(agent)\n",
    "        Xs[name] = game_state_X.get(game_state)\n",
    "        actions[name] = agents[name].act(Xs[name], train=train[name])\n",
    "        \n",
    "    game.step(actions)\n",
    "    \n",
    "    rewards = {'tensor_agent': 1.}\n",
    "\n",
    "    for _, _, name, _, _ in game.agents:\n",
    "        if train[name]:\n",
    "            agents[name].reward_update([Xs[name], actions[name], rewards[name]])\n",
    "    \n",
    "    if game.terminated:\n",
    "        for name, a in agents.items():\n",
    "            a.end_of_episode(save='tensor_agent-model.h5') # alt: save=None\n",
    "        \n",
    "        d.update(f'Step: {step+1}/{n_steps}')\n",
    "        \n",
    "        game = None\n",
    "\n",
    "d.update(f'Complete')"
   ]
  },
  {
   "cell_type": "code",
   "execution_count": null,
   "metadata": {},
   "outputs": [],
   "source": []
  },
  {
   "cell_type": "code",
   "execution_count": null,
   "metadata": {},
   "outputs": [],
   "source": []
  }
 ],
 "metadata": {
  "kernelspec": {
   "display_name": "Python 3",
   "language": "python",
   "name": "python3"
  },
  "language_info": {
   "codemirror_mode": {
    "name": "ipython",
    "version": 3
   },
   "file_extension": ".py",
   "mimetype": "text/x-python",
   "name": "python",
   "nbconvert_exporter": "python",
   "pygments_lexer": "ipython3",
   "version": "3.6.7"
  }
 },
 "nbformat": 4,
 "nbformat_minor": 2
}
