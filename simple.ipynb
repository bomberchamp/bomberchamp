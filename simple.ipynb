{
 "cells": [
  {
   "cell_type": "code",
   "execution_count": 1,
   "metadata": {},
   "outputs": [
    {
     "name": "stdout",
     "output_type": "stream",
     "text": [
      "pygame 1.9.4\n",
      "Hello from the pygame community. https://www.pygame.org/contribute.html\n"
     ]
    }
   ],
   "source": [
    "from settings import s, e\n",
    "import numpy as np\n",
    "import pickle\n",
    "\n"
   ]
  },
  {
   "cell_type": "code",
   "execution_count": 163,
   "metadata": {},
   "outputs": [],
   "source": [
    "##TODO get times for every step and use mean for computation of reward slow\n",
    "\n",
    "class expl():\n",
    "    def __init__(self, owner, coords, bomb):\n",
    "        self.owner=owner\n",
    "        self.timer=4\n",
    "        self.coords=coords\n",
    "        self.bomb=bomb\n",
    "        \n",
    "    def dist(self, otherbomb):\n",
    "        return np.abs(np.array(self.bomb)-np.array(otherbomb))\n",
    "        \n",
    "        \n",
    "def explosion_spread(bombs):\n",
    "    xs, ys = np.where(bombs == 1)\n",
    "    \n",
    "    bomb_power = s.bomb_power\n",
    "\n",
    "    x_odd = (xs & 1) == 1\n",
    "    y_odd = (ys & 1) == 1\n",
    "\n",
    "    x_spread = (np.arange(bomb_power*2 + 1) - bomb_power)[:,None] + (xs[y_odd])[None,:]\n",
    "    y_spread = (np.arange(bomb_power*2 + 1) - bomb_power)[:,None] + (ys[x_odd])[None,:]\n",
    "\n",
    "    x_spread = np.maximum(np.minimum(x_spread, s.cols-2), 1)\n",
    "    y_spread = np.maximum(np.minimum(y_spread, s.rows-2), 1)\n",
    "\n",
    "    x_spread_y = np.zeros(x_spread.shape) + (ys[y_odd])[None,:]\n",
    "    x_spread = x_spread.flatten()\n",
    "    x_spread_y = x_spread_y.flatten()\n",
    "\n",
    "    y_spread_x = np.zeros(y_spread.shape) + (xs[x_odd])[None,:]\n",
    "    y_spread = y_spread.flatten()\n",
    "    y_spread_x = y_spread_x.flatten()\n",
    "\n",
    "    new_explosion_spread = np.zeros(bombs.shape) - 3\n",
    "    new_explosion_spread[x_spread.astype(int), x_spread_y.astype(int)] = s.explosion_timer + 1\n",
    "    new_explosion_spread[y_spread_x.astype(int), y_spread.astype(int)] = s.explosion_timer + 1\n",
    "    return new_explosion_spread\n",
    "\n",
    "def explosion_spread_xy(x, y):\n",
    "    xs, ys = np.array([x]) , np.array([y])\n",
    "\n",
    "    bomb_power = s.bomb_power\n",
    "\n",
    "    x_odd = (xs & 1) == 1\n",
    "    y_odd = (ys & 1) == 1\n",
    "\n",
    "    x_spread = (np.arange(bomb_power*2 + 1) - bomb_power)[:,None] + (xs[y_odd])[None,:]\n",
    "    y_spread = (np.arange(bomb_power*2 + 1) - bomb_power)[:,None] + (ys[x_odd])[None,:]\n",
    "\n",
    "    x_spread = np.maximum(np.minimum(x_spread, s.cols-2), 1)\n",
    "    y_spread = np.maximum(np.minimum(y_spread, s.rows-2), 1)\n",
    "\n",
    "    x_spread_y = np.zeros(x_spread.shape) + (ys[y_odd])[None,:]\n",
    "    x_spread = x_spread.flatten()\n",
    "    x_spread_y = x_spread_y.flatten()\n",
    "\n",
    "    y_spread_x = np.zeros(y_spread.shape) + (xs[x_odd])[None,:]\n",
    "    y_spread = y_spread.flatten()\n",
    "    y_spread_x = y_spread_x.flatten()\n",
    "    elements=set()\n",
    "    for i in range(len(x_spread)):\n",
    "        if (x_spread[i], x_spread_y[i]) not in elements:\n",
    "            elements.add((x_spread[i], x_spread_y[i]))\n",
    "    for i in range(len(y_spread)):\n",
    "        if (y_spread_x[i], y_spread[i]) not in elements:\n",
    "            elements.add((y_spread_x[i], y_spread[i]))\n",
    "\n",
    "    return elements\n",
    "\n",
    "\n",
    "def tile_is_free(x, y, arena, bombs, active_agents):\n",
    "    is_free = (arena[x,y] == 0 and bombs[x,y] < 1)\n",
    "    if is_free:\n",
    "        for a in active_agents:\n",
    "            a_x, a_y, _, _, _ = a\n",
    "            is_free = is_free and (a_x != x or a_y != y)\n",
    "    return is_free\n",
    "\n",
    "def get_x(arena, self, others, bombs, explosions, coins):\n",
    "    X = np.zeros((s.cols, s.rows, 6))\n",
    "    \n",
    "    X[:,:,0] = arena\n",
    "    \n",
    "    X[self[0],self[1],1] = 2 if self[3] > 0 else 1\n",
    "    \n",
    "    # one channel for each player\n",
    "    #for i in range(len(others)):\n",
    "    #    X[others[i][0], others[i][1], i+2] = 2 if others[i][3] > 0 else 1\n",
    "\n",
    "    # one channel for all enemies combined\n",
    "    for i in range(len(others)):\n",
    "        X[others[i][0], others[i][1], 2] = 2 if others[i][3] > 0 else 1\n",
    "    \n",
    "    X[:,:,3] = bombs\n",
    "    \n",
    "    X[:,:,4] = explosions\n",
    "\n",
    "    X[:,:,5] = coins\n",
    "\n",
    "    return X\n",
    "\n",
    "def play_replay(replay):\n",
    "    arena = np.copy(replay['arena'])\n",
    "    coins = np.zeros(arena.shape)\n",
    "    coinlist = replay['coins']\n",
    "\n",
    "    agents = [a for a in replay['agents']]\n",
    "    permutations = replay['permutations']\n",
    "    actions = replay['actions']\n",
    "\n",
    "    for i in range(len(coinlist)):\n",
    "        coins[coinlist[i][0], coinlist[i][1]] = 1\n",
    "\n",
    "    bombs = np.zeros(arena.shape)\n",
    "   \n",
    "    explosions = np.zeros(arena.shape)\n",
    "    \n",
    "    Xs = []\n",
    "    action_y_map = {action: i for (i, action) in enumerate(s.actions)}\n",
    "    ys = []\n",
    "\n",
    "    bombs_at=np.array([set(),set(),set(),set()])\n",
    "    explosions_at=np.array([set(),set(),set(),set()])\n",
    "    exp=[]\n",
    "    agent_number=dict()\n",
    "    keep_score=dict()\n",
    "    for k, agent in zip(range(len(agents)),agents):\n",
    "        a, b, name, c, d = agent\n",
    "        agent_number[k]=name\n",
    "        keep_score[name]=0\n",
    "        \n",
    "        \n",
    "    for i in range(replay['n_steps']):\n",
    "        permutation = permutations[i]\n",
    "        \n",
    "        # Agents\n",
    "        for j in range(len(agents)):\n",
    "            agent = agents[permutation[j]]\n",
    "            x, y, name, bombs_left, score = agent\n",
    "            action = actions[name][i]\n",
    "\n",
    "            X = get_x(arena, agent, [a for a in agents if a != agent], bombs, explosions, coins)\n",
    "            Xs.append(X)\n",
    "            ys.append(action_y_map[action])\n",
    "\n",
    "                    \n",
    "            if action == 'BOMB' and bombs_left > 0:\n",
    "                bombs[x, y] = s.bomb_timer + 2\n",
    "                bombs_left = -s.bomb_timer + 2\n",
    "                exp.append(expl(agent,explosion_spread_xy(x,y),(x,y)))\n",
    "            if action == 'DOWN' and tile_is_free(x, y+1, arena, bombs, agents):\n",
    "                y += 1\n",
    "            if action == 'UP' and tile_is_free(x, y-1, arena, bombs, agents):\n",
    "                y -= 1\n",
    "            if action == 'RIGHT' and tile_is_free(x+1, y, arena, bombs, agents):\n",
    "                x += 1\n",
    "            if action == 'LEFT' and tile_is_free(x-1, y, arena, bombs, agents):\n",
    "                x -= 1\n",
    "            \n",
    "            bombs_left = np.minimum(bombs_left+1, 1)\n",
    "            \n",
    "            agents[permutation[j]] = (x, y, name, bombs_left, score)\n",
    "\n",
    "        \n",
    "        for j in range(len(agents)):\n",
    "            x, y, name, bombs_left, score = agents[j]\n",
    "            if coins[x,y]==1:\n",
    "                keep_score[name]+=s.reward_coin\n",
    "            coins[x,y]=0\n",
    "        \n",
    "            \n",
    "        \n",
    "            \n",
    "        \n",
    "        # Bombs\n",
    "        explosions = np.maximum(explosions, explosion_spread(bombs))\n",
    "        \n",
    "        bombs = np.maximum(np.zeros(bombs.shape), bombs-1)\n",
    "        \n",
    "        # Explosions\n",
    "        arena[explosions > 1] = 0\n",
    "        agents_hit = set()\n",
    "        for j in range(len(agents)):\n",
    "            x, y, name, bombs_left, score = agents[j]\n",
    "            if explosions[x, y] > 1:\n",
    "                print(f\"agent {agents[j]} was bombed at {x}, {y} in step {i}\")\n",
    "                owners=[]\n",
    "                dists=[]\n",
    "                for e in exp:\n",
    "                    if (x,y) in e.coords and e.timer<=0:\n",
    "                        owners.append(e)\n",
    "                        dists.append(e.dist((x,y)))\n",
    "                if len(owners)==1:\n",
    "                    killer=owners[0].owner\n",
    "                else:\n",
    "                    killer=owners[np.argmin(np.array(dists))].owner\n",
    "                a, b, name_k, c, d = killer\n",
    "                if name_k!=name:\n",
    "                    print('bombed by', name_k)\n",
    "                    keep_score[name_k]+=s.reward_kill\n",
    "                else:\n",
    "                    print('suicide')\n",
    "                agents_hit.add(agents[j])\n",
    "    \n",
    "            for a in range(len(arena)):\n",
    "                for b in range(len(arena)):\n",
    "                    if explosions[a,b]>1:\n",
    "                        explosions_at[j].discard((a,b))\n",
    "        explosions = np.maximum(np.zeros(explosions.shape), explosions-1)\n",
    "        \n",
    "        for a in agents_hit:\n",
    "            agents.remove(a)\n",
    "        for e in exp:\n",
    "            e.timer-=1\n",
    "            if e.timer<=-3:\n",
    "                exp.remove(e)\n",
    "            \n",
    "            \n",
    "            \n",
    "    #reward for slowest agent\n",
    "    keep_score[agent_number[np.argmax(np.array(replay['times']))]]+=s.reward_slow  #TODO\n",
    "\n",
    "    print(keep_score)\n",
    "    #return Xs, ys\n"
   ]
  },
  {
   "cell_type": "code",
   "execution_count": 164,
   "metadata": {},
   "outputs": [
    {
     "name": "stdout",
     "output_type": "stream",
     "text": [
      "agent (13, 11, 'simple_agent_1', 1, 0) was bombed at 13, 11 in step 57\n",
      "suicide\n",
      "agent (9, 8, 'simple_agent_0', 1, 0) was bombed at 9, 8 in step 112\n",
      "bombed by simple_agent_2\n",
      "agent (12, 1, 'tensor_agent', 1, 0) was bombed at 12, 1 in step 242\n",
      "bombed by simple_agent_2\n",
      "[0.003736544047854074, 0.004606753323985412, 0.004042925505802549, 0.006220052216915374]\n",
      "{'tensor_agent': 0, 'simple_agent_0': 1, 'simple_agent_1': 1, 'simple_agent_2': 16}\n"
     ]
    }
   ],
   "source": [
    "replay_file='Replay 2019-03-10 11-21-34'\n",
    "with open(f'replays/{replay_file}.pt', 'rb') as f:\n",
    "        replay = pickle.load(f)\n",
    "play_replay(replay)"
   ]
  },
  {
   "cell_type": "code",
   "execution_count": 59,
   "metadata": {},
   "outputs": [
    {
     "data": {
      "text/plain": [
       "<function __main__.explosion_spread(bombs)>"
      ]
     },
     "execution_count": 59,
     "metadata": {},
     "output_type": "execute_result"
    }
   ],
   "source": [
    "explosion_spread"
   ]
  },
  {
   "cell_type": "code",
   "execution_count": 201,
   "metadata": {},
   "outputs": [],
   "source": []
  },
  {
   "cell_type": "code",
   "execution_count": 255,
   "metadata": {},
   "outputs": [],
   "source": [
    "def explosion_spread_xy():\n",
    "    xs, ys = np.array([1]) , np.array([1])\n",
    "\n",
    "    bomb_power = s.bomb_power\n",
    "\n",
    "    x_odd = (xs & 1) == 1\n",
    "    y_odd = (ys & 1) == 1\n",
    "\n",
    "    x_spread = (np.arange(bomb_power*2 + 1) - bomb_power)[:,None] + (xs[y_odd])[None,:]\n",
    "    y_spread = (np.arange(bomb_power*2 + 1) - bomb_power)[:,None] + (ys[x_odd])[None,:]\n",
    "\n",
    "    x_spread = np.maximum(np.minimum(x_spread, s.cols-2), 1)\n",
    "    y_spread = np.maximum(np.minimum(y_spread, s.rows-2), 1)\n",
    "\n",
    "    x_spread_y = np.zeros(x_spread.shape) + (ys[y_odd])[None,:]\n",
    "    x_spread = x_spread.flatten()\n",
    "    x_spread_y = x_spread_y.flatten()\n",
    "\n",
    "    y_spread_x = np.zeros(y_spread.shape) + (xs[x_odd])[None,:]\n",
    "    y_spread = y_spread.flatten()\n",
    "    y_spread_x = y_spread_x.flatten()\n",
    "    elements=set()\n",
    "    for i in range(len(x_spread)):\n",
    "        if (x_spread[i], x_spread_y[i]) not in elements:\n",
    "            elements.add((x_spread[i], x_spread_y[i]))\n",
    "    for i in range(len(y_spread)):\n",
    "        if (y_spread_x[i], y_spread[i]) not in elements:\n",
    "            elements.add((y_spread_x[i], y_spread[i]))\n",
    "\n",
    "    return elements"
   ]
  },
  {
   "cell_type": "code",
   "execution_count": 256,
   "metadata": {},
   "outputs": [
    {
     "data": {
      "text/plain": [
       "((array([1, 1, 1, 1, 2, 3, 4]), array([1, 1, 1, 1, 1, 1, 1])),\n",
       " (array([1, 1, 1, 1, 2, 3, 4]), array([1, 1, 1, 1, 1, 1, 1])))"
      ]
     },
     "execution_count": 256,
     "metadata": {},
     "output_type": "execute_result"
    }
   ],
   "source": [
    "explosion_spread_xy()"
   ]
  },
  {
   "cell_type": "code",
   "execution_count": 269,
   "metadata": {},
   "outputs": [
    {
     "name": "stdout",
     "output_type": "stream",
     "text": [
      "{1, 2}\n",
      "{3, 4, 5}\n",
      "{1, 2, 3, 4, 5}\n"
     ]
    }
   ],
   "source": [
    "a=set()\n",
    "a.add(1)\n",
    "a.add(2)\n",
    "print(a)\n",
    "b=set()\n",
    "b.add(5)\n",
    "b.add(3)\n",
    "b.add(4)\n",
    "print(b)\n",
    "a.update(b)\n",
    "print(a)"
   ]
  },
  {
   "cell_type": "code",
   "execution_count": 20,
   "metadata": {},
   "outputs": [
    {
     "ename": "TypeError",
     "evalue": "'type' object is not subscriptable",
     "output_type": "error",
     "traceback": [
      "\u001b[0;31m---------------------------------------------------------------------------\u001b[0m",
      "\u001b[0;31mTypeError\u001b[0m                                 Traceback (most recent call last)",
      "\u001b[0;32m<ipython-input-20-7ef32eea40cf>\u001b[0m in \u001b[0;36m<module>\u001b[0;34m\u001b[0m\n\u001b[0;32m----> 1\u001b[0;31m \u001b[0ma\u001b[0m\u001b[0;34m=\u001b[0m\u001b[0mnp\u001b[0m\u001b[0;34m.\u001b[0m\u001b[0marray\u001b[0m\u001b[0;34m(\u001b[0m\u001b[0;34m[\u001b[0m\u001b[0mlist\u001b[0m\u001b[0;34m[\u001b[0m\u001b[0;36m0\u001b[0m\u001b[0;34m,\u001b[0m\u001b[0mset\u001b[0m\u001b[0;34m(\u001b[0m\u001b[0;34m)\u001b[0m\u001b[0;34m]\u001b[0m\u001b[0;34m,\u001b[0m\u001b[0mlist\u001b[0m\u001b[0;34m[\u001b[0m\u001b[0;36m0\u001b[0m\u001b[0;34m,\u001b[0m\u001b[0mset\u001b[0m\u001b[0;34m(\u001b[0m\u001b[0;34m)\u001b[0m\u001b[0;34m]\u001b[0m\u001b[0;34m,\u001b[0m\u001b[0mlist\u001b[0m\u001b[0;34m[\u001b[0m\u001b[0;36m0\u001b[0m\u001b[0;34m,\u001b[0m\u001b[0mset\u001b[0m\u001b[0;34m(\u001b[0m\u001b[0;34m)\u001b[0m\u001b[0;34m]\u001b[0m\u001b[0;34m,\u001b[0m\u001b[0mlist\u001b[0m\u001b[0;34m[\u001b[0m\u001b[0;36m0\u001b[0m\u001b[0;34m,\u001b[0m\u001b[0mset\u001b[0m\u001b[0;34m(\u001b[0m\u001b[0;34m)\u001b[0m\u001b[0;34m]\u001b[0m\u001b[0;34m]\u001b[0m\u001b[0;34m)\u001b[0m\u001b[0;34m\u001b[0m\u001b[0;34m\u001b[0m\u001b[0m\n\u001b[0m",
      "\u001b[0;31mTypeError\u001b[0m: 'type' object is not subscriptable"
     ]
    }
   ],
   "source": [
    "a=np.array([list[0,set()],list[0,set()],list[0,set()],list[0,set()]])"
   ]
  },
  {
   "cell_type": "code",
   "execution_count": 18,
   "metadata": {},
   "outputs": [
    {
     "name": "stdout",
     "output_type": "stream",
     "text": [
      "[1]\n"
     ]
    }
   ],
   "source": [
    "print(a[0])"
   ]
  },
  {
   "cell_type": "code",
   "execution_count": 65,
   "metadata": {},
   "outputs": [
    {
     "data": {
      "text/plain": [
       "3"
      ]
     },
     "execution_count": 65,
     "metadata": {},
     "output_type": "execute_result"
    }
   ],
   "source": [
    "max([abs(1-2)+abs(3-1),2])"
   ]
  },
  {
   "cell_type": "code",
   "execution_count": 74,
   "metadata": {},
   "outputs": [
    {
     "data": {
      "text/plain": [
       "1"
      ]
     },
     "execution_count": 74,
     "metadata": {},
     "output_type": "execute_result"
    }
   ],
   "source": [
    "np.argmin(np.abs(np.array((1,2))-np.array((3,1))))"
   ]
  },
  {
   "cell_type": "code",
   "execution_count": 124,
   "metadata": {},
   "outputs": [
    {
     "ename": "TypeError",
     "evalue": "'zip' object is not subscriptable",
     "output_type": "error",
     "traceback": [
      "\u001b[0;31m---------------------------------------------------------------------------\u001b[0m",
      "\u001b[0;31mTypeError\u001b[0m                                 Traceback (most recent call last)",
      "\u001b[0;32m<ipython-input-124-5e24c331b588>\u001b[0m in \u001b[0;36m<module>\u001b[0;34m\u001b[0m\n\u001b[1;32m      2\u001b[0m \u001b[0mb\u001b[0m\u001b[0;34m=\u001b[0m\u001b[0;34m[\u001b[0m\u001b[0;34m'one'\u001b[0m\u001b[0;34m,\u001b[0m \u001b[0;34m'two'\u001b[0m\u001b[0;34m,\u001b[0m \u001b[0;34m'three'\u001b[0m\u001b[0;34m]\u001b[0m\u001b[0;34m\u001b[0m\u001b[0;34m\u001b[0m\u001b[0m\n\u001b[1;32m      3\u001b[0m \u001b[0mc\u001b[0m\u001b[0;34m=\u001b[0m\u001b[0mzip\u001b[0m\u001b[0;34m(\u001b[0m\u001b[0ma\u001b[0m\u001b[0;34m,\u001b[0m\u001b[0mb\u001b[0m\u001b[0;34m)\u001b[0m\u001b[0;34m\u001b[0m\u001b[0;34m\u001b[0m\u001b[0m\n\u001b[0;32m----> 4\u001b[0;31m \u001b[0mprint\u001b[0m\u001b[0;34m(\u001b[0m\u001b[0mc\u001b[0m\u001b[0;34m[\u001b[0m\u001b[0;36m1\u001b[0m\u001b[0;34m]\u001b[0m\u001b[0;34m)\u001b[0m\u001b[0;34m\u001b[0m\u001b[0;34m\u001b[0m\u001b[0m\n\u001b[0m",
      "\u001b[0;31mTypeError\u001b[0m: 'zip' object is not subscriptable"
     ]
    }
   ],
   "source": [
    "a=[1,2,3]\n",
    "b=['one', 'two', 'three']\n",
    "c=zip(a,b)\n",
    "print(c[1])"
   ]
  },
  {
   "cell_type": "code",
   "execution_count": 106,
   "metadata": {},
   "outputs": [
    {
     "data": {
      "text/plain": [
       "0"
      ]
     },
     "execution_count": 106,
     "metadata": {},
     "output_type": "execute_result"
    }
   ],
   "source": [
    "np.argmin([1])"
   ]
  },
  {
   "cell_type": "code",
   "execution_count": null,
   "metadata": {},
   "outputs": [],
   "source": []
  }
 ],
 "metadata": {
  "kernelspec": {
   "display_name": "Python 3",
   "language": "python",
   "name": "python3"
  },
  "language_info": {
   "codemirror_mode": {
    "name": "ipython",
    "version": 3
   },
   "file_extension": ".py",
   "mimetype": "text/x-python",
   "name": "python",
   "nbconvert_exporter": "python",
   "pygments_lexer": "ipython3",
   "version": "3.6.7"
  }
 },
 "nbformat": 4,
 "nbformat_minor": 2
}
