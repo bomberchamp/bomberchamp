{
 "cells": [
  {
   "cell_type": "code",
   "execution_count": 1,
   "metadata": {},
   "outputs": [],
   "source": [
    "from settings import s, e\n",
    "import numpy as np\n",
    "import tensorflow as tf\n",
    "import tensorflow.keras.backend as K\n",
    "import pickle\n",
    "\n",
    "from IPython.display import clear_output, display, update_display\n",
    "import matplotlib.pyplot as plt\n",
    "\n",
    "from agent_code.tensor_agent.hyperparameters import hp\n",
    "\n",
    "clear_output()"
   ]
  },
  {
   "cell_type": "markdown",
   "metadata": {},
   "source": [
    "# Game Check"
   ]
  },
  {
   "cell_type": "code",
   "execution_count": 2,
   "metadata": {},
   "outputs": [],
   "source": [
    "from simple import Game"
   ]
  },
  {
   "cell_type": "code",
   "execution_count": 19,
   "metadata": {},
   "outputs": [
    {
     "name": "stdout",
     "output_type": "stream",
     "text": [
      "Agents [(15, 15, 'test', 1, 0)]\n",
      "Arena (17, 17)\n",
      "Coins (17, 17) # 9.0\n"
     ]
    },
    {
     "data": {
      "image/png": "[encoded data removed]",
      "text/plain": [
       "<Figure size 432x288 with 1 Axes>"
      ]
     },
     "metadata": {
      "needs_background": "light"
     },
     "output_type": "display_data"
    }
   ],
   "source": [
    "game = Game(*Game.create_arena(['test']))\n",
    "print('Agents', game.agents)\n",
    "print('Arena', game.arena.shape)\n",
    "print('Coins', game.coins.shape, '#', np.sum(game.coins))\n",
    "\n",
    "plt.title('Coins: green')\n",
    "plt.imshow(np.stack([game.arena / 2 + 0.5, game.coins, game.bombs + game.explosions]).T)\n",
    "plt.show()"
   ]
  },
  {
   "cell_type": "code",
   "execution_count": 20,
   "metadata": {},
   "outputs": [
    {
     "data": {
      "image/png": "[encoded data removed]",
      "text/plain": [
       "<Figure size 432x288 with 1 Axes>"
      ]
     },
     "metadata": {
      "needs_background": "light"
     },
     "output_type": "display_data"
    }
   ],
   "source": [
    "game.bombs[7, 7] = 1\n",
    "game.bombs[10, 11] = 1\n",
    "game.bombs[1, 1] = 1\n",
    "game.step({'test': 'BOMB'})\n",
    "\n",
    "plt.title('Explosions: blue, Bombs: green')\n",
    "plt.imshow(np.stack([game.arena / 2 + 0.5, game.bombs / np.maximum(np.max(game.bombs), 1.), game.explosions / np.max(game.explosions)]).T)\n",
    "plt.show()"
   ]
  },
  {
   "cell_type": "code",
   "execution_count": 21,
   "metadata": {},
   "outputs": [
    {
     "name": "stdout",
     "output_type": "stream",
     "text": [
      "(15, 15, 'test', -4, 0)\n",
      "(15, 15, 'test', -3, 0)\n",
      "(15, 15, 'test', -2, 0)\n",
      "(15, 15, 'test', -1, 0)\n",
      "(15, 15, 'test', 0, 0)\n",
      "agent (15, 15, 'test', 1, 0) was bombed at 15, 15 in step 6\n",
      "suicide\n"
     ]
    }
   ],
   "source": [
    "# with triggered bomb from cell above\n",
    "for i in range(5):\n",
    "    print(game.agents[0])\n",
    "    game.step({'test': 'BOMB'})"
   ]
  },
  {
   "cell_type": "code",
   "execution_count": 33,
   "metadata": {},
   "outputs": [],
   "source": [
    "game = Game(*Game.create_arena(['test']))\n",
    "x, y = np.stack(np.where(game.coins == 1)).T[0]\n",
    "_, _, name, bombs_left, score = game.agents[0]\n",
    "game.agents[0] = (x, y, name, bombs_left, score)\n",
    "\n",
    "reward = game.step({name: 'WAIT'})\n",
    "\n",
    "assert(reward[name] == s.reward_coin)"
   ]
  },
  {
   "cell_type": "markdown",
   "metadata": {},
   "source": [
    "# X"
   ]
  },
  {
   "cell_type": "code",
   "execution_count": 34,
   "metadata": {},
   "outputs": [],
   "source": [
    "from agent_code.tensor_agent.X import RelativeX2, AbsoluteX2, Minimal\n",
    "from simple import Game"
   ]
  },
  {
   "cell_type": "code",
   "execution_count": 35,
   "metadata": {},
   "outputs": [],
   "source": [
    "game = Game(*Game.create_arena(['test']))\n",
    "game_state = game.get_game_state(game.agents[0])"
   ]
  },
  {
   "cell_type": "code",
   "execution_count": 37,
   "metadata": {},
   "outputs": [
    {
     "data": {
      "text/plain": [
       "<matplotlib.image.AxesImage at 0x7f8eb2ccd7f0>"
      ]
     },
     "execution_count": 37,
     "metadata": {},
     "output_type": "execute_result"
    },
    {
     "data": {
      "image/png": "[encoded data removed]",
      "text/plain": [
       "<Figure size 432x288 with 1 Axes>"
      ]
     },
     "metadata": {
      "needs_background": "light"
     },
     "output_type": "display_data"
    }
   ],
   "source": [
    "X = RelativeX2.get(game_state)\n",
    "img = np.sum(X, axis=2)\n",
    "plt.imshow(img / np.max(img))"
   ]
  },
  {
   "cell_type": "code",
   "execution_count": 38,
   "metadata": {},
   "outputs": [
    {
     "data": {
      "text/plain": [
       "<matplotlib.image.AxesImage at 0x7f8eb2caadd8>"
      ]
     },
     "execution_count": 38,
     "metadata": {},
     "output_type": "execute_result"
    },
    {
     "data": {
      "image/png": "[encoded data removed]",
      "text/plain": [
       "<Figure size 432x288 with 1 Axes>"
      ]
     },
     "metadata": {
      "needs_background": "light"
     },
     "output_type": "display_data"
    }
   ],
   "source": [
    "X = AbsoluteX2.get(game_state)\n",
    "img = np.sum(X, axis=2)\n",
    "plt.imshow(img / np.max(img))"
   ]
  },
  {
   "cell_type": "code",
   "execution_count": 39,
   "metadata": {},
   "outputs": [
    {
     "data": {
      "text/plain": [
       "<matplotlib.image.AxesImage at 0x7f8eb2c12d30>"
      ]
     },
     "execution_count": 39,
     "metadata": {},
     "output_type": "execute_result"
    },
    {
     "data": {
      "image/png": "[encoded data removed]",
      "text/plain": [
       "<Figure size 432x288 with 1 Axes>"
      ]
     },
     "metadata": {
      "needs_background": "light"
     },
     "output_type": "display_data"
    }
   ],
   "source": [
    "X = Minimal.get(game_state)\n",
    "img = np.sum(X, axis=2)\n",
    "plt.imshow(img / np.max(img))"
   ]
  },
  {
   "cell_type": "markdown",
   "metadata": {},
   "source": [
    "# MultiStepBuffer Check"
   ]
  },
  {
   "cell_type": "code",
   "execution_count": 2,
   "metadata": {},
   "outputs": [],
   "source": [
    "from agent_code.tensor_agent.agent import MultiStepBuffer\n",
    "\n",
    "from agent_code.tensor_agent.model import FullModel"
   ]
  },
  {
   "cell_type": "code",
   "execution_count": 16,
   "metadata": {},
   "outputs": [],
   "source": [
    "input_shape = (4,4,1)\n",
    "D = 6\n",
    "model = FullModel(input_shape, D)\n",
    "clear_output()\n",
    "\n",
    "ms_buffer = MultiStepBuffer()\n",
    "\n",
    "X = np.zeros((4,4,1))\n",
    "X[1,2] = 1\n",
    "action = 2\n",
    "reward = 1-0.0001\n",
    "sample = [X, action, reward]\n",
    "result = ms_buffer.push(*sample, target_model=model.target)\n",
    "assert(result is None)\n",
    "result = ms_buffer.push(*sample, target_model=model.target)\n",
    "assert(result is None)\n",
    "result = ms_buffer.push(*sample, target_model=model.target)\n",
    "assert(result is None)\n",
    "result = ms_buffer.push(*sample, target_model=model.target)\n",
    "assert(np.all(result[0] == X) and result[1] == action)\n",
    "\n",
    "Xs, actions, rewards = ms_buffer.clear()\n",
    "assert(np.all(Xs[hp.multi_step_n-1] == X) and actions[hp.multi_step_n-1] == action and rewards[hp.multi_step_n-1] == reward)\n",
    "assert(rewards[-1] == reward and rewards[-2] == reward * (1 + hp.discount_factor))"
   ]
  },
  {
   "cell_type": "markdown",
   "metadata": {},
   "source": [
    "# Sum Tree"
   ]
  },
  {
   "cell_type": "code",
   "execution_count": 2,
   "metadata": {},
   "outputs": [],
   "source": [
    "from agent_code.tensor_agent.per import SumTree"
   ]
  },
  {
   "cell_type": "code",
   "execution_count": 26,
   "metadata": {},
   "outputs": [],
   "source": [
    "capacity = 6\n",
    "tree = SumTree(capacity)"
   ]
  },
  {
   "cell_type": "code",
   "execution_count": 27,
   "metadata": {},
   "outputs": [],
   "source": [
    "for i in range(capacity):\n",
    "    tree.add(1., 'huhu')"
   ]
  },
  {
   "cell_type": "code",
   "execution_count": 28,
   "metadata": {},
   "outputs": [
    {
     "data": {
      "text/plain": [
       "array([6., 4., 2., 2., 2., 1., 1., 1., 1., 1., 1.])"
      ]
     },
     "execution_count": 28,
     "metadata": {},
     "output_type": "execute_result"
    }
   ],
   "source": [
    "tree.tree"
   ]
  },
  {
   "cell_type": "code",
   "execution_count": 29,
   "metadata": {},
   "outputs": [],
   "source": [
    "tree.update(capacity-1, 0.5)\n",
    "assert(np.sum(tree.tree[-tree.capacity:] != 1) == 1)"
   ]
  },
  {
   "cell_type": "code",
   "execution_count": 30,
   "metadata": {},
   "outputs": [
    {
     "name": "stdout",
     "output_type": "stream",
     "text": [
      "min: 5 max: 10\n"
     ]
    }
   ],
   "source": [
    "samples = np.array([tree.get_leave(v+0.5) for v in range(capacity)])[:,0].astype(int)\n",
    "print('min:',np.min(samples),'max:',np.max(samples))\n",
    "assert(np.min(samples) == capacity-1 and np.max(samples) == (capacity-1) * 2)"
   ]
  },
  {
   "cell_type": "markdown",
   "metadata": {},
   "source": [
    "# Augmentation"
   ]
  },
  {
   "cell_type": "code",
   "execution_count": 81,
   "metadata": {},
   "outputs": [],
   "source": [
    "from agent_code.tensor_agent.agent import augment\n",
    "from simple import Game\n",
    "from agent_code.tensor_agent.X import Minimal as game_state_X\n",
    "choices = ['RIGHT', 'LEFT', 'UP', 'DOWN', 'BOMB', 'WAIT']"
   ]
  },
  {
   "cell_type": "code",
   "execution_count": 51,
   "metadata": {},
   "outputs": [],
   "source": [
    "game = Game(*Game.create_arena(['test']))"
   ]
  },
  {
   "cell_type": "code",
   "execution_count": 57,
   "metadata": {},
   "outputs": [
    {
     "data": {
      "text/plain": [
       "(33, 33, 2)"
      ]
     },
     "execution_count": 57,
     "metadata": {},
     "output_type": "execute_result"
    }
   ],
   "source": [
    "X = game_state_X.get(game.get_game_state(game.agents[0]))\n",
    "X.shape"
   ]
  },
  {
   "cell_type": "code",
   "execution_count": 92,
   "metadata": {},
   "outputs": [
    {
     "data": {
      "image/png": "[encoded data removed]",
      "text/plain": [
       "<Figure size 432x288 with 1 Axes>"
      ]
     },
     "metadata": {
      "needs_background": "light"
     },
     "output_type": "display_data"
    }
   ],
   "source": [
    "def plotX(X):\n",
    "    img = np.zeros((X.shape[0], X.shape[1], 3))\n",
    "    img[:,:,[0,1]] = X\n",
    "    img[10,:,2] = 1 # x axis -> Left and right is changed if this axis is switched\n",
    "    img[:,5,2] = 0.5 # y axis -> Up and down is changed if this axis is switched\n",
    "    plt.imshow(img)\n",
    "\n",
    "plotX(X)"
   ]
  },
  {
   "cell_type": "code",
   "execution_count": 120,
   "metadata": {},
   "outputs": [],
   "source": [
    "augmented = augment(X, 0)\n",
    "Xs = [a[0] for a in augmented]\n",
    "actions = [a[1] for a in augmented]"
   ]
  },
  {
   "cell_type": "code",
   "execution_count": 121,
   "metadata": {},
   "outputs": [
    {
     "name": "stdout",
     "output_type": "stream",
     "text": [
      "RIGHT\n"
     ]
    },
    {
     "data": {
      "image/png": "[encoded data removed]",
      "text/plain": [
       "<Figure size 432x288 with 1 Axes>"
      ]
     },
     "metadata": {
      "needs_background": "light"
     },
     "output_type": "display_data"
    }
   ],
   "source": [
    "plotX(Xs[0])\n",
    "print(choices[actions[0]])"
   ]
  },
  {
   "cell_type": "code",
   "execution_count": 122,
   "metadata": {},
   "outputs": [
    {
     "name": "stdout",
     "output_type": "stream",
     "text": [
      "LEFT\n"
     ]
    },
    {
     "data": {
      "image/png": "[encoded data removed]",
      "text/plain": [
       "<Figure size 432x288 with 1 Axes>"
      ]
     },
     "metadata": {
      "needs_background": "light"
     },
     "output_type": "display_data"
    }
   ],
   "source": [
    "plotX(Xs[1])\n",
    "print(choices[actions[1]])"
   ]
  },
  {
   "cell_type": "code",
   "execution_count": 123,
   "metadata": {},
   "outputs": [
    {
     "name": "stdout",
     "output_type": "stream",
     "text": [
      "RIGHT\n"
     ]
    },
    {
     "data": {
      "image/png": "[encoded data removed]",
      "text/plain": [
       "<Figure size 432x288 with 1 Axes>"
      ]
     },
     "metadata": {
      "needs_background": "light"
     },
     "output_type": "display_data"
    }
   ],
   "source": [
    "plotX(Xs[2])\n",
    "print(choices[actions[2]])"
   ]
  },
  {
   "cell_type": "code",
   "execution_count": 124,
   "metadata": {},
   "outputs": [
    {
     "name": "stdout",
     "output_type": "stream",
     "text": [
      "LEFT\n"
     ]
    },
    {
     "data": {
      "image/png": "[encoded data removed]",
      "text/plain": [
       "<Figure size 432x288 with 1 Axes>"
      ]
     },
     "metadata": {
      "needs_background": "light"
     },
     "output_type": "display_data"
    }
   ],
   "source": [
    "plotX(Xs[3])\n",
    "print(choices[actions[3]])"
   ]
  },
  {
   "cell_type": "markdown",
   "metadata": {},
   "source": [
    "# Agent"
   ]
  },
  {
   "cell_type": "code",
   "execution_count": 4,
   "metadata": {},
   "outputs": [],
   "source": [
    "from agent_code.tensor_agent.agent import TensorAgent"
   ]
  },
  {
   "cell_type": "code",
   "execution_count": 5,
   "metadata": {},
   "outputs": [],
   "source": [
    "hp.buffer_size = 32\n",
    "hp.sample_size = 32\n",
    "hp.learning_rate = 0.1\n",
    "hp.update_frequency = 1\n",
    "hp.target_network_period = 1"
   ]
  },
  {
   "cell_type": "code",
   "execution_count": 6,
   "metadata": {},
   "outputs": [],
   "source": [
    "D = 6\n",
    "agent = TensorAgent((2,2,1), 6)\n",
    "clear_output()"
   ]
  },
  {
   "cell_type": "code",
   "execution_count": 7,
   "metadata": {},
   "outputs": [
    {
     "data": {
      "text/plain": [
       "<matplotlib.image.AxesImage at 0x7fd91c58f9b0>"
      ]
     },
     "execution_count": 7,
     "metadata": {},
     "output_type": "execute_result"
    },
    {
     "data": {
      "image/png": "[encoded data removed]",
      "text/plain": [
       "<Figure size 432x288 with 1 Axes>"
      ]
     },
     "metadata": {
      "needs_background": "light"
     },
     "output_type": "display_data"
    }
   ],
   "source": [
    "X = np.zeros((2,2,1))\n",
    "X[0,0,0] = 1\n",
    "action1 = 0\n",
    "action2 = 1\n",
    "reward1 = 1\n",
    "reward2 = -1\n",
    "plt.imshow(X[:,:,0])"
   ]
  },
  {
   "cell_type": "code",
   "execution_count": null,
   "metadata": {},
   "outputs": [],
   "source": [
    "for i in range(1000):\n",
    "    agent.reward_update([X, action1, reward1])\n",
    "    agent.end_of_episode()\n",
    "    agent.reward_update([X, action2, reward2])\n",
    "    agent.end_of_episode()\n",
    "clear_output()"
   ]
  },
  {
   "cell_type": "code",
   "execution_count": 9,
   "metadata": {},
   "outputs": [
    {
     "data": {
      "text/plain": [
       "array([[ 1.0003811 , -1.0004103 ,  0.38252765, -0.39823732,  0.07964045,\n",
       "         0.10601245]], dtype=float32)"
      ]
     },
     "execution_count": 9,
     "metadata": {},
     "output_type": "execute_result"
    }
   ],
   "source": [
    "agent.model.target.predict(np.array([X]))"
   ]
  },
  {
   "cell_type": "code",
   "execution_count": null,
   "metadata": {},
   "outputs": [],
   "source": []
  }
 ],
 "metadata": {
  "kernelspec": {
   "display_name": "Python 3",
   "language": "python",
   "name": "python3"
  },
  "language_info": {
   "codemirror_mode": {
    "name": "ipython",
    "version": 3
   },
   "file_extension": ".py",
   "mimetype": "text/x-python",
   "name": "python",
   "nbconvert_exporter": "python",
   "pygments_lexer": "ipython3",
   "version": "3.7.2"
  }
 },
 "nbformat": 4,
 "nbformat_minor": 2
}
